{
 "cells": [
  {
   "cell_type": "markdown",
   "id": "d0949db2",
   "metadata": {},
   "source": [
    "# Team Moneyball\n",
    "\n",
    "## Project Description: \n",
    "\n",
    "### Press Sports App users share an environment to engage with others who share similar interests. We are searching for a method to analyze and understand the driving factors of engagement with the app and other users around the country.\n"
   ]
  },
  {
   "cell_type": "code",
   "execution_count": 1,
   "id": "2b3c4269",
   "metadata": {},
   "outputs": [],
   "source": [
    "# Import dependencies "
   ]
  },
  {
   "cell_type": "code",
   "execution_count": 44,
   "id": "1d463b75",
   "metadata": {},
   "outputs": [],
   "source": [
    "# Dependecies and Setup \n",
    "import os\n",
    "import csv \n",
    "import pandas as pd \n",
    "import matplotlib.pyplot as plt\n",
    "import scipy.stats as st\n",
    "import numpy as np\n",
    "from scipy.stats import linregress\n",
    "# File to Load \n",
    "user_data_csv= \"user_data.csv\"\n",
    "\n",
    "# Store into Pandas DataFrames\n",
    "df = pd.read_csv(user_data_csv)\n",
    "\n"
   ]
  },
  {
   "cell_type": "code",
   "execution_count": 3,
   "id": "ca57fb00",
   "metadata": {},
   "outputs": [],
   "source": [
    "# Display the dataframe head"
   ]
  },
  {
   "cell_type": "code",
   "execution_count": 4,
   "id": "117e6947",
   "metadata": {
    "scrolled": true
   },
   "outputs": [
    {
     "data": {
      "text/html": [
       "<div>\n",
       "<style scoped>\n",
       "    .dataframe tbody tr th:only-of-type {\n",
       "        vertical-align: middle;\n",
       "    }\n",
       "\n",
       "    .dataframe tbody tr th {\n",
       "        vertical-align: top;\n",
       "    }\n",
       "\n",
       "    .dataframe thead th {\n",
       "        text-align: right;\n",
       "    }\n",
       "</style>\n",
       "<table border=\"1\" class=\"dataframe\">\n",
       "  <thead>\n",
       "    <tr style=\"text-align: right;\">\n",
       "      <th></th>\n",
       "      <th>userId</th>\n",
       "      <th>daysOld</th>\n",
       "      <th>sport</th>\n",
       "      <th>level</th>\n",
       "      <th>classOf</th>\n",
       "      <th>state</th>\n",
       "      <th>school</th>\n",
       "      <th>schoolCount</th>\n",
       "      <th>club</th>\n",
       "      <th>clubCount</th>\n",
       "      <th>...</th>\n",
       "      <th>fanUpOnSuggestedUsers</th>\n",
       "      <th>myProfileViewed</th>\n",
       "      <th>rankingsViewed</th>\n",
       "      <th>postLikes</th>\n",
       "      <th>notificationsReceived</th>\n",
       "      <th>total_invites</th>\n",
       "      <th>daysSinceActive</th>\n",
       "      <th>daysActiveLast30</th>\n",
       "      <th>ActiveLast7</th>\n",
       "      <th>Unnamed: 29</th>\n",
       "    </tr>\n",
       "  </thead>\n",
       "  <tbody>\n",
       "    <tr>\n",
       "      <th>0</th>\n",
       "      <td>v8FXVdBmWTMKygrfh0K24WHm0403</td>\n",
       "      <td>818</td>\n",
       "      <td>Baseball</td>\n",
       "      <td>High School</td>\n",
       "      <td>2024</td>\n",
       "      <td>TX</td>\n",
       "      <td>Pine Tree High School</td>\n",
       "      <td>6.0</td>\n",
       "      <td>Phenom Baseball</td>\n",
       "      <td>5.0</td>\n",
       "      <td>...</td>\n",
       "      <td>11</td>\n",
       "      <td>209</td>\n",
       "      <td>453</td>\n",
       "      <td>1373</td>\n",
       "      <td>2691</td>\n",
       "      <td>3</td>\n",
       "      <td>0</td>\n",
       "      <td>23</td>\n",
       "      <td>1</td>\n",
       "      <td>NaN</td>\n",
       "    </tr>\n",
       "    <tr>\n",
       "      <th>1</th>\n",
       "      <td>o16OVYwvfgYiDDzcSsQYDI8ua6d2</td>\n",
       "      <td>734</td>\n",
       "      <td>Baseball</td>\n",
       "      <td>High School</td>\n",
       "      <td>2025</td>\n",
       "      <td>GA</td>\n",
       "      <td>Savannah Christian Preparatory School</td>\n",
       "      <td>2.0</td>\n",
       "      <td>Canes Simpson</td>\n",
       "      <td>3.0</td>\n",
       "      <td>...</td>\n",
       "      <td>1</td>\n",
       "      <td>17</td>\n",
       "      <td>7</td>\n",
       "      <td>62</td>\n",
       "      <td>241</td>\n",
       "      <td>0</td>\n",
       "      <td>97</td>\n",
       "      <td>0</td>\n",
       "      <td>0</td>\n",
       "      <td>NaN</td>\n",
       "    </tr>\n",
       "    <tr>\n",
       "      <th>2</th>\n",
       "      <td>wLT1TgISsyeJcRocy682tp3SFD92</td>\n",
       "      <td>695</td>\n",
       "      <td>Baseball</td>\n",
       "      <td>High School</td>\n",
       "      <td>2023</td>\n",
       "      <td>GA</td>\n",
       "      <td>Dutchtown High School</td>\n",
       "      <td>1.0</td>\n",
       "      <td>NaN</td>\n",
       "      <td>NaN</td>\n",
       "      <td>...</td>\n",
       "      <td>3</td>\n",
       "      <td>127</td>\n",
       "      <td>476</td>\n",
       "      <td>1448</td>\n",
       "      <td>2360</td>\n",
       "      <td>0</td>\n",
       "      <td>171</td>\n",
       "      <td>0</td>\n",
       "      <td>0</td>\n",
       "      <td>NaN</td>\n",
       "    </tr>\n",
       "    <tr>\n",
       "      <th>3</th>\n",
       "      <td>AaOw4PLV3ZYp3AOVwODmqs1F6zW2</td>\n",
       "      <td>695</td>\n",
       "      <td>Baseball</td>\n",
       "      <td>High School</td>\n",
       "      <td>2023</td>\n",
       "      <td>MI</td>\n",
       "      <td>Rochester High School</td>\n",
       "      <td>10.0</td>\n",
       "      <td>South Oakland A's</td>\n",
       "      <td>18.0</td>\n",
       "      <td>...</td>\n",
       "      <td>0</td>\n",
       "      <td>21</td>\n",
       "      <td>31</td>\n",
       "      <td>49</td>\n",
       "      <td>338</td>\n",
       "      <td>0</td>\n",
       "      <td>4</td>\n",
       "      <td>5</td>\n",
       "      <td>1</td>\n",
       "      <td>NaN</td>\n",
       "    </tr>\n",
       "    <tr>\n",
       "      <th>4</th>\n",
       "      <td>7QqiKKMwZqe7JXhJb6NXCsui5au1</td>\n",
       "      <td>695</td>\n",
       "      <td>Baseball</td>\n",
       "      <td>High School</td>\n",
       "      <td>2025</td>\n",
       "      <td>IA</td>\n",
       "      <td>Clinton High School</td>\n",
       "      <td>5.0</td>\n",
       "      <td>NaN</td>\n",
       "      <td>NaN</td>\n",
       "      <td>...</td>\n",
       "      <td>10</td>\n",
       "      <td>262</td>\n",
       "      <td>69</td>\n",
       "      <td>42</td>\n",
       "      <td>776</td>\n",
       "      <td>2</td>\n",
       "      <td>0</td>\n",
       "      <td>18</td>\n",
       "      <td>1</td>\n",
       "      <td>NaN</td>\n",
       "    </tr>\n",
       "  </tbody>\n",
       "</table>\n",
       "<p>5 rows × 30 columns</p>\n",
       "</div>"
      ],
      "text/plain": [
       "                         userId  daysOld     sport        level  classOf  \\\n",
       "0  v8FXVdBmWTMKygrfh0K24WHm0403      818  Baseball  High School     2024   \n",
       "1  o16OVYwvfgYiDDzcSsQYDI8ua6d2      734  Baseball  High School     2025   \n",
       "2  wLT1TgISsyeJcRocy682tp3SFD92      695  Baseball  High School     2023   \n",
       "3  AaOw4PLV3ZYp3AOVwODmqs1F6zW2      695  Baseball  High School     2023   \n",
       "4  7QqiKKMwZqe7JXhJb6NXCsui5au1      695  Baseball  High School     2025   \n",
       "\n",
       "  state                                 school  schoolCount  \\\n",
       "0    TX                  Pine Tree High School          6.0   \n",
       "1    GA  Savannah Christian Preparatory School          2.0   \n",
       "2    GA                  Dutchtown High School          1.0   \n",
       "3    MI                  Rochester High School         10.0   \n",
       "4    IA                    Clinton High School          5.0   \n",
       "\n",
       "                club  clubCount  ... fanUpOnSuggestedUsers  myProfileViewed  \\\n",
       "0    Phenom Baseball        5.0  ...                    11              209   \n",
       "1      Canes Simpson        3.0  ...                     1               17   \n",
       "2                NaN        NaN  ...                     3              127   \n",
       "3  South Oakland A's       18.0  ...                     0               21   \n",
       "4                NaN        NaN  ...                    10              262   \n",
       "\n",
       "   rankingsViewed  postLikes  notificationsReceived  total_invites  \\\n",
       "0             453       1373                   2691              3   \n",
       "1               7         62                    241              0   \n",
       "2             476       1448                   2360              0   \n",
       "3              31         49                    338              0   \n",
       "4              69         42                    776              2   \n",
       "\n",
       "   daysSinceActive  daysActiveLast30  ActiveLast7  Unnamed: 29  \n",
       "0                0                23            1          NaN  \n",
       "1               97                 0            0          NaN  \n",
       "2              171                 0            0          NaN  \n",
       "3                4                 5            1          NaN  \n",
       "4                0                18            1          NaN  \n",
       "\n",
       "[5 rows x 30 columns]"
      ]
     },
     "execution_count": 4,
     "metadata": {},
     "output_type": "execute_result"
    }
   ],
   "source": [
    "df.head()"
   ]
  },
  {
   "cell_type": "code",
   "execution_count": 5,
   "id": "e3d90b56",
   "metadata": {},
   "outputs": [
    {
     "data": {
      "text/plain": [
       "31212"
      ]
     },
     "execution_count": 5,
     "metadata": {},
     "output_type": "execute_result"
    }
   ],
   "source": [
    "user_count= df[\"userId\"].nunique()\n",
    "user_count"
   ]
  },
  {
   "cell_type": "code",
   "execution_count": 6,
   "id": "d7d3f47b",
   "metadata": {},
   "outputs": [],
   "source": [
    "# Begin data cleaning to fill blank cells and create new categories for users"
   ]
  },
  {
   "cell_type": "code",
   "execution_count": 7,
   "id": "60dc7b00",
   "metadata": {
    "scrolled": true
   },
   "outputs": [],
   "source": [
    "df['school'] = df['school'].fillna('No_School')\n"
   ]
  },
  {
   "cell_type": "code",
   "execution_count": 8,
   "id": "2e71c1bc",
   "metadata": {
    "scrolled": true
   },
   "outputs": [],
   "source": [
    "df['club'] = df['club'].fillna('No_Club')\n"
   ]
  },
  {
   "cell_type": "code",
   "execution_count": 16,
   "id": "bed45a8c",
   "metadata": {},
   "outputs": [],
   "source": [
    "df['clubCount'] = df['clubCount'].fillna(0)\n",
    "df['interests'] = df['interests'].fillna(0)"
   ]
  },
  {
   "cell_type": "code",
   "execution_count": 17,
   "id": "780ec78e",
   "metadata": {
    "scrolled": true
   },
   "outputs": [
    {
     "data": {
      "text/plain": [
       "0        \"BMX\",\"Baseball\",\"Bowling\",\"Boxing\",\"Cheerlead...\n",
       "1        \"Football\",\"Baseball\",\"Basketball (M)\",\"Basket...\n",
       "2        \"BMX\",\"Baseball\",\"Basketball (M)\",\"Basketball ...\n",
       "3        \"BMX\",\"Baseball\",\"Basketball (M)\",\"Basketball ...\n",
       "4        \"Baseball\",\"Bowling\",\"Fishing\",\"Snowboarding\",...\n",
       "                               ...                        \n",
       "31207                                                    0\n",
       "31208                                                    0\n",
       "31209                                                    0\n",
       "31210             \"Football\",\"Baseball\",\"Boxing\",\"Fishing\"\n",
       "31211                                                    0\n",
       "Name: interests, Length: 31212, dtype: object"
      ]
     },
     "execution_count": 17,
     "metadata": {},
     "output_type": "execute_result"
    }
   ],
   "source": [
    "df['state'] = df['state'].fillna('No_State')\n",
    "df['interests']"
   ]
  },
  {
   "cell_type": "code",
   "execution_count": 201,
   "id": "7d9f618c",
   "metadata": {},
   "outputs": [
    {
     "data": {
      "text/plain": [
       "0        \"BMX\",\"Baseball\",\"Bowling\",\"Boxing\",\"Cheerlead...\n",
       "1        \"Football\",\"Baseball\",\"Basketball (M)\",\"Basket...\n",
       "2        \"BMX\",\"Baseball\",\"Basketball (M)\",\"Basketball ...\n",
       "3        \"BMX\",\"Baseball\",\"Basketball (M)\",\"Basketball ...\n",
       "4        \"Baseball\",\"Bowling\",\"Fishing\",\"Snowboarding\",...\n",
       "                               ...                        \n",
       "31207                                                  NaN\n",
       "31208                                                  NaN\n",
       "31209                                                  NaN\n",
       "31210             \"Football\",\"Baseball\",\"Boxing\",\"Fishing\"\n",
       "31211                                                  NaN\n",
       "Name: interests, Length: 31212, dtype: object"
      ]
     },
     "execution_count": 201,
     "metadata": {},
     "output_type": "execute_result"
    }
   ],
   "source": [
    "df['schoolCount'] = df['schoolCount'].fillna(0)\n",
    "df['interests'] = df['interests'].tolist()\n",
    "df['interests']"
   ]
  },
  {
   "cell_type": "code",
   "execution_count": 200,
   "id": "6f529a79",
   "metadata": {},
   "outputs": [
    {
     "data": {
      "text/html": [
       "<div>\n",
       "<style scoped>\n",
       "    .dataframe tbody tr th:only-of-type {\n",
       "        vertical-align: middle;\n",
       "    }\n",
       "\n",
       "    .dataframe tbody tr th {\n",
       "        vertical-align: top;\n",
       "    }\n",
       "\n",
       "    .dataframe thead th {\n",
       "        text-align: right;\n",
       "    }\n",
       "</style>\n",
       "<table border=\"1\" class=\"dataframe\">\n",
       "  <thead>\n",
       "    <tr style=\"text-align: right;\">\n",
       "      <th></th>\n",
       "      <th>userId</th>\n",
       "      <th>daysOld</th>\n",
       "      <th>sport</th>\n",
       "      <th>level</th>\n",
       "      <th>classOf</th>\n",
       "      <th>state</th>\n",
       "      <th>school</th>\n",
       "      <th>schoolCount</th>\n",
       "      <th>club</th>\n",
       "      <th>clubCount</th>\n",
       "      <th>...</th>\n",
       "      <th>total_invites</th>\n",
       "      <th>daysSinceActive</th>\n",
       "      <th>daysActiveLast30</th>\n",
       "      <th>ActiveLast7</th>\n",
       "      <th>Unnamed: 29</th>\n",
       "      <th>interest count</th>\n",
       "      <th>actions_day</th>\n",
       "      <th>avg_likes</th>\n",
       "      <th>posts_day</th>\n",
       "      <th>retention</th>\n",
       "    </tr>\n",
       "  </thead>\n",
       "  <tbody>\n",
       "    <tr>\n",
       "      <th>0</th>\n",
       "      <td>v8FXVdBmWTMKygrfh0K24WHm0403</td>\n",
       "      <td>818</td>\n",
       "      <td>Baseball</td>\n",
       "      <td>High School</td>\n",
       "      <td>2024</td>\n",
       "      <td>TX</td>\n",
       "      <td>Pine Tree High School</td>\n",
       "      <td>6.0</td>\n",
       "      <td>Phenom Baseball</td>\n",
       "      <td>5.0</td>\n",
       "      <td>...</td>\n",
       "      <td>3</td>\n",
       "      <td>0</td>\n",
       "      <td>23</td>\n",
       "      <td>1</td>\n",
       "      <td>NaN</td>\n",
       "      <td>31212</td>\n",
       "      <td>5.497555</td>\n",
       "      <td>21.123077</td>\n",
       "      <td>12.584615</td>\n",
       "      <td>True</td>\n",
       "    </tr>\n",
       "    <tr>\n",
       "      <th>1</th>\n",
       "      <td>o16OVYwvfgYiDDzcSsQYDI8ua6d2</td>\n",
       "      <td>734</td>\n",
       "      <td>Baseball</td>\n",
       "      <td>High School</td>\n",
       "      <td>2025</td>\n",
       "      <td>GA</td>\n",
       "      <td>Savannah Christian Preparatory School</td>\n",
       "      <td>2.0</td>\n",
       "      <td>Canes Simpson</td>\n",
       "      <td>3.0</td>\n",
       "      <td>...</td>\n",
       "      <td>0</td>\n",
       "      <td>97</td>\n",
       "      <td>0</td>\n",
       "      <td>0</td>\n",
       "      <td>NaN</td>\n",
       "      <td>31212</td>\n",
       "      <td>0.333787</td>\n",
       "      <td>20.666667</td>\n",
       "      <td>244.666667</td>\n",
       "      <td>False</td>\n",
       "    </tr>\n",
       "    <tr>\n",
       "      <th>2</th>\n",
       "      <td>wLT1TgISsyeJcRocy682tp3SFD92</td>\n",
       "      <td>695</td>\n",
       "      <td>Baseball</td>\n",
       "      <td>High School</td>\n",
       "      <td>2023</td>\n",
       "      <td>GA</td>\n",
       "      <td>Dutchtown High School</td>\n",
       "      <td>1.0</td>\n",
       "      <td>NaN</td>\n",
       "      <td>NaN</td>\n",
       "      <td>...</td>\n",
       "      <td>0</td>\n",
       "      <td>171</td>\n",
       "      <td>0</td>\n",
       "      <td>0</td>\n",
       "      <td>NaN</td>\n",
       "      <td>31212</td>\n",
       "      <td>4.532374</td>\n",
       "      <td>68.952381</td>\n",
       "      <td>33.095238</td>\n",
       "      <td>False</td>\n",
       "    </tr>\n",
       "    <tr>\n",
       "      <th>3</th>\n",
       "      <td>AaOw4PLV3ZYp3AOVwODmqs1F6zW2</td>\n",
       "      <td>695</td>\n",
       "      <td>Baseball</td>\n",
       "      <td>High School</td>\n",
       "      <td>2023</td>\n",
       "      <td>MI</td>\n",
       "      <td>Rochester High School</td>\n",
       "      <td>10.0</td>\n",
       "      <td>South Oakland A's</td>\n",
       "      <td>18.0</td>\n",
       "      <td>...</td>\n",
       "      <td>0</td>\n",
       "      <td>4</td>\n",
       "      <td>5</td>\n",
       "      <td>1</td>\n",
       "      <td>NaN</td>\n",
       "      <td>31212</td>\n",
       "      <td>0.494964</td>\n",
       "      <td>24.500000</td>\n",
       "      <td>347.500000</td>\n",
       "      <td>True</td>\n",
       "    </tr>\n",
       "    <tr>\n",
       "      <th>4</th>\n",
       "      <td>7QqiKKMwZqe7JXhJb6NXCsui5au1</td>\n",
       "      <td>695</td>\n",
       "      <td>Baseball</td>\n",
       "      <td>High School</td>\n",
       "      <td>2025</td>\n",
       "      <td>IA</td>\n",
       "      <td>Clinton High School</td>\n",
       "      <td>5.0</td>\n",
       "      <td>NaN</td>\n",
       "      <td>NaN</td>\n",
       "      <td>...</td>\n",
       "      <td>2</td>\n",
       "      <td>0</td>\n",
       "      <td>18</td>\n",
       "      <td>1</td>\n",
       "      <td>NaN</td>\n",
       "      <td>31212</td>\n",
       "      <td>3.215827</td>\n",
       "      <td>8.400000</td>\n",
       "      <td>139.000000</td>\n",
       "      <td>True</td>\n",
       "    </tr>\n",
       "  </tbody>\n",
       "</table>\n",
       "<p>5 rows × 35 columns</p>\n",
       "</div>"
      ],
      "text/plain": [
       "                         userId  daysOld     sport        level  classOf  \\\n",
       "0  v8FXVdBmWTMKygrfh0K24WHm0403      818  Baseball  High School     2024   \n",
       "1  o16OVYwvfgYiDDzcSsQYDI8ua6d2      734  Baseball  High School     2025   \n",
       "2  wLT1TgISsyeJcRocy682tp3SFD92      695  Baseball  High School     2023   \n",
       "3  AaOw4PLV3ZYp3AOVwODmqs1F6zW2      695  Baseball  High School     2023   \n",
       "4  7QqiKKMwZqe7JXhJb6NXCsui5au1      695  Baseball  High School     2025   \n",
       "\n",
       "  state                                 school  schoolCount  \\\n",
       "0    TX                  Pine Tree High School          6.0   \n",
       "1    GA  Savannah Christian Preparatory School          2.0   \n",
       "2    GA                  Dutchtown High School          1.0   \n",
       "3    MI                  Rochester High School         10.0   \n",
       "4    IA                    Clinton High School          5.0   \n",
       "\n",
       "                club  clubCount  ... total_invites  daysSinceActive  \\\n",
       "0    Phenom Baseball        5.0  ...             3                0   \n",
       "1      Canes Simpson        3.0  ...             0               97   \n",
       "2                NaN        NaN  ...             0              171   \n",
       "3  South Oakland A's       18.0  ...             0                4   \n",
       "4                NaN        NaN  ...             2                0   \n",
       "\n",
       "   daysActiveLast30  ActiveLast7  Unnamed: 29  interest count  actions_day  \\\n",
       "0                23            1          NaN           31212     5.497555   \n",
       "1                 0            0          NaN           31212     0.333787   \n",
       "2                 0            0          NaN           31212     4.532374   \n",
       "3                 5            1          NaN           31212     0.494964   \n",
       "4                18            1          NaN           31212     3.215827   \n",
       "\n",
       "   avg_likes   posts_day  retention  \n",
       "0  21.123077   12.584615       True  \n",
       "1  20.666667  244.666667      False  \n",
       "2  68.952381   33.095238      False  \n",
       "3  24.500000  347.500000       True  \n",
       "4   8.400000  139.000000       True  \n",
       "\n",
       "[5 rows x 35 columns]"
      ]
     },
     "execution_count": 200,
     "metadata": {},
     "output_type": "execute_result"
    }
   ],
   "source": [
    "interests = df['interests']\n",
    "interest_count = 0\n",
    "# we need to convert df['interests'] to a list, then find the length of the list. Didn't have time to get to this\n",
    "for each in interests:\n",
    "     interest_count += 1\n",
    "     df['interest count'] = interest_count\n",
    "\n",
    "df.head()"
   ]
  },
  {
   "cell_type": "code",
   "execution_count": 126,
   "id": "562e87fd",
   "metadata": {},
   "outputs": [],
   "source": [
    "# get rid of outliers for total actions\n",
    "# df= df.drop(columns=['Unnamed: 29'])\n",
    "# df_posters = df[df.posts > 0]\n",
    "# df['totalActions'].quantile(0.75)\n",
    "# df['totalActions'].quantile(0.25)\n",
    "# df_actions = df[df.totalActions < 2680]\n",
    "# df_actions = df_actions[df_actions.totalActions > 140]"
   ]
  },
  {
   "cell_type": "code",
   "execution_count": 198,
   "id": "95533e3d",
   "metadata": {},
   "outputs": [
    {
     "data": {
      "text/plain": [
       "<matplotlib.collections.PathCollection at 0x7ff03a3b4e50>"
      ]
     },
     "execution_count": 198,
     "metadata": {},
     "output_type": "execute_result"
    },
    {
     "data": {
      "image/png": "[encoded data removed]",
      "text/plain": [
       "<Figure size 432x288 with 1 Axes>"
      ]
     },
     "metadata": {
      "needs_background": "light"
     },
     "output_type": "display_data"
    }
   ],
   "source": [
    "plt.xlabel(\"x\")\n",
    "plt.ylabel(\"y\")\n",
    "plt.title(\"x vs y\")\n",
    "plt.scatter(df['notificationsReceived'], df['totalActions'])"
   ]
  },
  {
   "cell_type": "code",
   "execution_count": 166,
   "id": "ec1ca3ff",
   "metadata": {},
   "outputs": [
    {
     "data": {
      "text/plain": [
       "<matplotlib.collections.PathCollection at 0x7ff079797460>"
      ]
     },
     "execution_count": 166,
     "metadata": {},
     "output_type": "execute_result"
    },
    {
     "data": {
      "image/png": "[encoded data removed]",
      "text/plain": [
       "<Figure size 432x288 with 1 Axes>"
      ]
     },
     "metadata": {
      "needs_background": "light"
     },
     "output_type": "display_data"
    }
   ],
   "source": [
    "plt.xlabel(\"x\")\n",
    "plt.ylabel(\"y\")\n",
    "plt.title(\"x vs y\")\n",
    "plt.scatter(df['notificationsReceived'], df['posts'])"
   ]
  },
  {
   "cell_type": "code",
   "execution_count": 137,
   "id": "bb8a0bbd",
   "metadata": {},
   "outputs": [
    {
     "data": {
      "text/plain": [
       "<matplotlib.collections.PathCollection at 0x7ff0750d02e0>"
      ]
     },
     "execution_count": 137,
     "metadata": {},
     "output_type": "execute_result"
    },
    {
     "data": {
      "image/png": "[encoded data removed]",
      "text/plain": [
       "<Figure size 432x288 with 1 Axes>"
      ]
     },
     "metadata": {
      "needs_background": "light"
     },
     "output_type": "display_data"
    }
   ],
   "source": [
    "plt.xlabel(\"x\")\n",
    "plt.ylabel(\"y\")\n",
    "plt.title(\"x vs y\")\n",
    "plt.scatter(df['followers'], df['totalActions'])"
   ]
  },
  {
   "cell_type": "code",
   "execution_count": 165,
   "id": "7cd16d12",
   "metadata": {},
   "outputs": [
    {
     "data": {
      "text/plain": [
       "<matplotlib.collections.PathCollection at 0x7ff07977a220>"
      ]
     },
     "execution_count": 165,
     "metadata": {},
     "output_type": "execute_result"
    },
    {
     "data": {
      "image/png": "[encoded data removed]",
      "text/plain": [
       "<Figure size 432x288 with 1 Axes>"
      ]
     },
     "metadata": {
      "needs_background": "light"
     },
     "output_type": "display_data"
    }
   ],
   "source": [
    "plt.xlabel(\"x\")\n",
    "plt.ylabel(\"y\")\n",
    "plt.title(\"x vs y\")\n",
    "plt.scatter(df['followers'], df['posts'])"
   ]
  },
  {
   "cell_type": "code",
   "execution_count": 140,
   "id": "ab2d47e0",
   "metadata": {},
   "outputs": [
    {
     "data": {
      "text/plain": [
       "<matplotlib.collections.PathCollection at 0x7ff0759442e0>"
      ]
     },
     "execution_count": 140,
     "metadata": {},
     "output_type": "execute_result"
    },
    {
     "data": {
      "image/png": "[encoded data removed]",
      "text/plain": [
       "<Figure size 432x288 with 1 Axes>"
      ]
     },
     "metadata": {
      "needs_background": "light"
     },
     "output_type": "display_data"
    }
   ],
   "source": [
    "plt.xlabel(\"x\")\n",
    "plt.ylabel(\"y\")\n",
    "plt.title(\"x vs y\")\n",
    "plt.scatter(df['rankingsViewed'], df['totalActions'])"
   ]
  },
  {
   "cell_type": "code",
   "execution_count": 164,
   "id": "f3fbec27",
   "metadata": {},
   "outputs": [
    {
     "data": {
      "text/plain": [
       "<matplotlib.collections.PathCollection at 0x7ff0795d3940>"
      ]
     },
     "execution_count": 164,
     "metadata": {},
     "output_type": "execute_result"
    },
    {
     "data": {
      "image/png": "[encoded data removed]",
      "text/plain": [
       "<Figure size 432x288 with 1 Axes>"
      ]
     },
     "metadata": {
      "needs_background": "light"
     },
     "output_type": "display_data"
    }
   ],
   "source": [
    "plt.xlabel(\"x\")\n",
    "plt.ylabel(\"y\")\n",
    "plt.title(\"x vs y\")\n",
    "plt.scatter(df['rankingsViewed'], df['posts'])"
   ]
  },
  {
   "cell_type": "code",
   "execution_count": 169,
   "id": "6562fe22",
   "metadata": {},
   "outputs": [
    {
     "data": {
      "text/plain": [
       "<matplotlib.collections.PathCollection at 0x7ff079cad5e0>"
      ]
     },
     "execution_count": 169,
     "metadata": {},
     "output_type": "execute_result"
    },
    {
     "data": {
      "image/png": "[encoded data removed]",
      "text/plain": [
       "<Figure size 432x288 with 1 Axes>"
      ]
     },
     "metadata": {
      "needs_background": "light"
     },
     "output_type": "display_data"
    }
   ],
   "source": [
    "plt.xlabel(\"x\")\n",
    "plt.ylabel(\"y\")\n",
    "plt.title(\"x vs y\")\n",
    "plt.scatter(df['posts'], df['totalActions'])"
   ]
  },
  {
   "cell_type": "code",
   "execution_count": null,
   "id": "47d6864b",
   "metadata": {},
   "outputs": [],
   "source": [
    "plt.xlabel(\"x\")\n",
    "plt.ylabel(\"y\")\n",
    "plt.title(\"x vs y\")\n",
    "plt.scatter(df['rankingsViewed'], df['posts'])"
   ]
  },
  {
   "cell_type": "code",
   "execution_count": 196,
   "id": "14254e18",
   "metadata": {},
   "outputs": [
    {
     "data": {
      "text/plain": [
       "14.096464394963363"
      ]
     },
     "execution_count": 196,
     "metadata": {},
     "output_type": "execute_result"
    }
   ],
   "source": [
    "# define retention (someone who is active)\n",
    "retention = []\n",
    "\n",
    "for days in df.daysActiveLast30:\n",
    "    if days > 0:\n",
    "        retention.append(True)\n",
    "    else:\n",
    "        retention.append(False)\n",
    "        \n",
    "df['retention'] = retention\n",
    "df.head()\n",
    "df_ret = df[df.retention == True]\n",
    "df_noret = df[df.retention == False]\n",
    "\n",
    "#average number of posts for those who are currently active\n",
    "df_ret['posts'].mean()"
   ]
  },
  {
   "cell_type": "code",
   "execution_count": 194,
   "id": "2f7f8a80",
   "metadata": {},
   "outputs": [
    {
     "data": {
      "text/plain": [
       "6.143106965899155"
      ]
     },
     "execution_count": 194,
     "metadata": {},
     "output_type": "execute_result"
    }
   ],
   "source": [
    "#average number of posts for those who are not currently active\n",
    "df_noret['posts'].mean()"
   ]
  },
  {
   "cell_type": "code",
   "execution_count": 13,
   "id": "d90cefb4",
   "metadata": {},
   "outputs": [],
   "source": [
    "# Define the levels of engagement\n",
    "# Create dataframe for each engagement scenario to enable analysis "
   ]
  },
  {
   "cell_type": "code",
   "execution_count": 14,
   "id": "f89bb54c",
   "metadata": {},
   "outputs": [],
   "source": [
    "# Create plots to analyze the questions regarding levels of engagement "
   ]
  },
  {
   "cell_type": "code",
   "execution_count": 15,
   "id": "8faa2e9d",
   "metadata": {},
   "outputs": [],
   "source": [
    "# Number of users per schooL\n",
    "# Does the number of users at a school imapact the level of engagement "
   ]
  }
 ],
 "metadata": {
  "kernelspec": {
   "display_name": "Python 3 (ipykernel)",
   "language": "python",
   "name": "python3"
  },
  "language_info": {
   "codemirror_mode": {
    "name": "ipython",
    "version": 3
   },
   "file_extension": ".py",
   "mimetype": "text/x-python",
   "name": "python",
   "nbconvert_exporter": "python",
   "pygments_lexer": "ipython3",
   "version": "3.9.7"
  }
 },
 "nbformat": 4,
 "nbformat_minor": 5
}
